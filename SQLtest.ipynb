{
 "cells": [
  {
   "cell_type": "code",
   "execution_count": 1,
   "metadata": {},
   "outputs": [
    {
     "name": "stdout",
     "output_type": "stream",
     "text": [
      "Requirement already satisfied: sqlalchemy in /home/wcansley/.local/lib/python3.8/site-packages (2.0.25)\n",
      "Requirement already satisfied: greenlet!=0.4.17; platform_machine == \"aarch64\" or (platform_machine == \"ppc64le\" or (platform_machine == \"x86_64\" or (platform_machine == \"amd64\" or (platform_machine == \"AMD64\" or (platform_machine == \"win32\" or platform_machine == \"WIN32\"))))) in /home/wcansley/.local/lib/python3.8/site-packages (from sqlalchemy) (3.0.3)\n",
      "Requirement already satisfied: typing-extensions>=4.6.0 in /home/wcansley/.local/lib/python3.8/site-packages (from sqlalchemy) (4.8.0)\n",
      "Note: you may need to restart the kernel to use updated packages.\n"
     ]
    }
   ],
   "source": [
    "pip install sqlalchemy"
   ]
  },
  {
   "cell_type": "code",
   "execution_count": 5,
   "metadata": {},
   "outputs": [
    {
     "name": "stdout",
     "output_type": "stream",
     "text": [
      "Requirement already satisfied: pypyodbc in /home/wcansley/.local/lib/python3.8/site-packages (1.3.6)\n",
      "Requirement already satisfied: setuptools in /usr/lib/python3/dist-packages (from pypyodbc) (45.2.0)\n",
      "Note: you may need to restart the kernel to use updated packages.\n"
     ]
    }
   ],
   "source": [
    "pip install pypyodbc"
   ]
  },
  {
   "cell_type": "code",
   "execution_count": 6,
   "metadata": {},
   "outputs": [],
   "source": [
    "from sqlalchemy import create_engine, MetaData\n",
    "from sqlalchemy.engine import URL\n",
    "import pypyodbc\n",
    "import pandas as pd\n",
    "\n",
    "###################################\n",
    "\n",
    "# declares the variables and defines them for the server connections, along with the table names that are going to be assigned\n",
    "SERVER_NAME = 'tcp:tecafs.database.windows.net,1433'\n",
    "DATABASE_NAME = 'TecafsSqlDatabase'\n",
    "TABLE_NAME = 'clean_data'\n",
    "\n",
    "###################################\n",
    "\n",
    "# makes the connection to the database with the connection string; has the driver, server name, database name, id, and password\n",
    "connection_string = f\"\"\"\n",
    "    DRIVER={{ODBC Driver 18 for SQL Server}};\n",
    "    SERVER={SERVER_NAME};\n",
    "    DATABASE={DATABASE_NAME};\n",
    "    Uid={'tecafs2023'};\n",
    "    Pwd={'Capstone50'};\n",
    "\"\"\"\n",
    "###################################\n",
    "\n",
    "# attempted connection string, didn't work though\n",
    "\n",
    "#connection_string1 = pypyodbc.connect(\"Driver={ODBC Driver 18 for SQL Server};Server=tcp:tecafs.database.windows.net,1433;Database=TecafsSqlDatabase;Uid=tecafs2023;Pwd={Capstone50};\")\n",
    "\n",
    "###################################\n",
    "\n",
    "\n",
    "connection_url = URL.create('mssql+pyodbc', query={'odbc_connect': connection_string})\n",
    "engine = create_engine(connection_url, module=pypyodbc)"
   ]
  },
  {
   "cell_type": "code",
   "execution_count": 7,
   "metadata": {},
   "outputs": [
    {
     "name": "stdout",
     "output_type": "stream",
     "text": [
      "Tables in the database:\n",
      "BuildVersion\n",
      "clean_data\n",
      "ErrorLog\n",
      "ftworthweather_data\n",
      "ML_forecast\n",
      "synthesize_forecast\n",
      "User_Info\n",
      "VDB_forecast\n",
      "weather\n"
     ]
    }
   ],
   "source": [
    "import pandas as pd\n",
    "\n",
    "metadata = MetaData()\n",
    "metadata.reflect(bind=engine)\n",
    "\n",
    "# Print the names of tables\n",
    "print(\"Tables in the database:\")\n",
    "for table in metadata.tables.values():\n",
    "    print(table.name)"
   ]
  },
  {
   "cell_type": "code",
   "execution_count": 13,
   "metadata": {},
   "outputs": [
    {
     "name": "stdout",
     "output_type": "stream",
     "text": [
      "                    hour_end         coast         east     far_west  \\\n",
      "0    2013-01-01 01:00:00.003   7607.189871  1074.024285  1411.823159   \n",
      "1    2013-01-01 01:59:59.997   7389.267519  1035.189180  1403.601093   \n",
      "2    2013-01-01 03:00:00.000   7179.748411  1036.216739  1395.131213   \n",
      "3    2013-01-01 04:00:00.003   7039.692524  1032.777439  1395.593012   \n",
      "4    2013-01-01 04:59:59.997   6991.412764  1042.906443  1401.239529   \n",
      "...                      ...           ...          ...          ...   \n",
      "8755 2013-12-31 19:59:59.997  10825.268372  1461.888557  1874.226858   \n",
      "8756 2013-12-31 21:00:00.000  10509.204046  1441.627026  1869.683907   \n",
      "8757 2013-12-31 22:00:00.003  10146.767461  1424.347535  1862.118638   \n",
      "8758 2013-12-31 22:59:59.997   9740.175233  1388.813409  1846.269656   \n",
      "8759 2014-01-01 00:00:00.000   9412.826300  1366.733450  1830.719100   \n",
      "\n",
      "           north       north_c     southern      south_c         west  \\\n",
      "0     763.069242  10370.322921  2206.945802  4368.528687   883.029500   \n",
      "1     754.425986  10153.942806  2160.082197  4233.635250   872.532258   \n",
      "2     746.215515   9989.243532  2065.369913  4082.897707   868.951334   \n",
      "3     749.028766   9947.855512  1991.151652  4010.524187   865.799032   \n",
      "4     757.148203  10097.444234  1954.963942  4038.678495   879.988054   \n",
      "...          ...           ...          ...          ...          ...   \n",
      "8755  863.291663  13575.202848  3919.412084  6906.843107  1166.136345   \n",
      "8756  853.958216  13348.121414  3760.801719  6693.169296  1156.226842   \n",
      "8757  840.019363  13113.728670  3597.222892  6589.516437  1147.052275   \n",
      "8758  819.977135  12784.725967  3447.566135  6399.695034  1128.938267   \n",
      "8759  802.318910  12516.250400  3340.239500  6240.917540  1117.115920   \n",
      "\n",
      "             ercot  \n",
      "0     28684.933467  \n",
      "1     28002.676290  \n",
      "2     27363.774363  \n",
      "3     27032.422123  \n",
      "4     27163.781663  \n",
      "...            ...  \n",
      "8755  40592.269834  \n",
      "8756  39632.792465  \n",
      "8757  38720.773270  \n",
      "8758  37556.160835  \n",
      "8759  36627.121120  \n",
      "\n",
      "[8760 rows x 10 columns]\n"
     ]
    }
   ],
   "source": [
    "from pathlib import Path\n",
    "import pandas as pd\n",
    "\n",
    "#Query the data from the clean_data table\n",
    "query = \"SELECT * FROM clean_data\" \n",
    "\n",
    "#Execute the query and load data into a Dataframe\n",
    "clean_data_df = pd.read_sql(query, engine)\n",
    "\n",
    "#Print the Dataframe\n",
    "print(clean_data_df)\n",
    "\n",
    "# Write the modified Dataframe back to a new CSV file\n",
    "data_folder = Path(\"/mnt/c/Users/wcans/milvus_compose/ERCOT_Hourly_Load_2022/\")\n",
    "output_csv_file_path = data_folder / 'vdb_sql_read_data_test.csv'\n",
    "clean_data_df.to_csv(output_csv_file_path, index=False)"
   ]
  },
  {
   "cell_type": "code",
   "execution_count": null,
   "metadata": {},
   "outputs": [],
   "source": []
  }
 ],
 "metadata": {
  "kernelspec": {
   "display_name": "Python 3 (ipykernel)",
   "language": "python",
   "name": "python3"
  },
  "language_info": {
   "codemirror_mode": {
    "name": "ipython",
    "version": 3
   },
   "file_extension": ".py",
   "mimetype": "text/x-python",
   "name": "python",
   "nbconvert_exporter": "python",
   "pygments_lexer": "ipython3",
   "version": "3.8.10"
  }
 },
 "nbformat": 4,
 "nbformat_minor": 4
}
