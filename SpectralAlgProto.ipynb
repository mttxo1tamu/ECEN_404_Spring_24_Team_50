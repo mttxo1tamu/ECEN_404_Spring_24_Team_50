{
  "nbformat": 4,
  "nbformat_minor": 0,
  "metadata": {
    "colab": {
      "provenance": []
    },
    "kernelspec": {
      "name": "python3",
      "display_name": "Python 3"
    },
    "language_info": {
      "name": "python"
    }
  },
  "cells": [
    {
      "cell_type": "code",
      "execution_count": 10,
      "metadata": {
        "id": "BKo-FeWS2MN7"
      },
      "outputs": [],
      "source": [
        "import numpy as np\n",
        "import scipy.signal as signal\n",
        "import scipy.fft as fft\n",
        "import matplotlib.pyplot as plt\n",
        "import matplotlib.colors as colors\n",
        "import csv"
      ]
    },
    {
      "cell_type": "code",
      "source": [
        "def envelope(consData):\n",
        "  #isolates daily amplitude and offset of power consumption data\n",
        "  envlength = int(len(consData)/24)\n",
        "  envbounds = np.zeros((2, envlength), float)\n",
        "  for i in range(envlength):\n",
        "    envbounds[0,i] = max(et[24*i:24*(i+1):1])\n",
        "    envbounds[1,i] = min(et[24*i:24*(i+1):1])\n",
        "  envamp = envbounds[0,:] - envbounds[1,:]\n",
        "  envoffs = 0.5*(envbounds[0,:] + envbounds[1,:])\n",
        "  return envamp, envoffs"
      ],
      "metadata": {
        "id": "klcT6NGJZd_7"
      },
      "execution_count": 2,
      "outputs": []
    },
    {
      "cell_type": "code",
      "source": [
        "with open('/content/drive/MyDrive/Colab Notebooks/ercot02_22.csv') as ercotData:\n",
        "  #reads in power consumption data from csv\n",
        "  #csv being used for prototyping is compilation of all ERCOT power consumption data from 2002-2022\n",
        "  #this csv is compiled from excel spreadsheets downloaded from their site and modified slightly for ease of use\n",
        "  reader = csv.reader(ercotData, quoting=csv.QUOTE_NONNUMERIC)\n",
        "  data = list(reader)\n",
        "  ercot_array = np.array(data)"
      ],
      "metadata": {
        "id": "C2x48cMP5pVO"
      },
      "execution_count": 3,
      "outputs": []
    },
    {
      "cell_type": "code",
      "source": [
        "#n represents integer number designating each timestamp so I don't have to deal with dates while prototyping\n",
        "n = ercot_array[:,0]\n",
        "\n",
        "co = ercot_array[:, 1]\n",
        "es = ercot_array[:, 2]\n",
        "fw = ercot_array[:, 3]\n",
        "no = ercot_array[:, 4]\n",
        "nc = ercot_array[:, 5]\n",
        "so = ercot_array[:, 6]\n",
        "sc = ercot_array[:, 7]\n",
        "we = ercot_array[:, 8]\n",
        "et = ercot_array[:, 9]"
      ],
      "metadata": {
        "id": "kGtMX8qrTG5y"
      },
      "execution_count": 4,
      "outputs": []
    },
    {
      "cell_type": "code",
      "source": [
        "coamp, cooffs = envelope(co)\n",
        "esamp, esoffs = envelope(es)\n",
        "fwamp, fwoffs = envelope(fw)\n",
        "noamp, nooffs = envelope(no)\n",
        "ncamp, ncoffs = envelope(nc)\n",
        "soamp, sooffs = envelope(so)\n",
        "scamp, scoffs = envelope(sc)\n",
        "weamps, weoffs = envelope(we)\n",
        "etamp, etoffs = envelope(et)\n"
      ],
      "metadata": {
        "id": "9NKR7U69aB6R"
      },
      "execution_count": 5,
      "outputs": []
    },
    {
      "cell_type": "code",
      "source": [
        "cof, cot, coZxx = signal.stft(et, 24, nperseg=744, noverlap=24)\n",
        "esf, est, esZxx = signal.stft(es, 24, nperseg=744, noverlap=24)\n",
        "fwf, fwt, fwZxx = signal.stft(fw, 24, nperseg=744, noverlap=24)\n",
        "nof, nort, noZxx = signal.stft(no, 24, nperseg=744, noverlap=24)\n",
        "ncf, nct, ncZxx = signal.stft(nc, 24, nperseg=744, noverlap=24)\n",
        "sof, sot, soZxx = signal.stft(so, 24, nperseg=744, noverlap=24)\n",
        "scf, sct, scZxx = signal.stft(sc, 24, nperseg=744, noverlap=24)\n",
        "wef, wet, weZxx = signal.stft(we, 24, nperseg=744, noverlap=24)\n",
        "etf, ett, etZxx = signal.stft(et, 24, nperseg=744, noverlap=24)"
      ],
      "metadata": {
        "id": "dzbMTm9RJhCf"
      },
      "execution_count": 96,
      "outputs": []
    },
    {
      "cell_type": "code",
      "source": [
        "#plt.pcolormesh(nct, ncf, np.abs(ncZxx), norm = \"log\", shading='gouraud', rasterized = True)\n",
        "\n",
        "#yearticks = [0, 8760, 17544, 26304, 35064, 43824, 52608, 61368, 70128, 78888, 87672, 96432, 105192, 113952, 122736, 131496, 140256, 149016, 157800, 166560, 175320]\n",
        "#yearlabels = [2002, 2003, 2004, 2005, 2006, 2007, 2008, 2009, 2010, 2011, 2012, 2013, 2014, 2015, 2016, 2017, 2018, 2019, 2020, 2021, 2022]\n",
        "#plt.xticks(ticks=yearticks, labels=yearlabels)\n",
        "#plt.title('STFT Magnitude')\n",
        "\n",
        "#plt.ylabel('Frequency [cycles per day]')\n",
        "\n",
        "#plt.xlabel('Time [days]')\n",
        "\n",
        "#plt.show"
      ],
      "metadata": {
        "id": "Me2xLflbh7KO"
      },
      "execution_count": 99,
      "outputs": []
    },
    {
      "cell_type": "code",
      "source": [],
      "metadata": {
        "id": "lLZKo0e4aCfe"
      },
      "execution_count": null,
      "outputs": []
    }
  ]
}